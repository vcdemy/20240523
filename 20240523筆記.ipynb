{
 "cells": [
  {
   "cell_type": "markdown",
   "id": "da55d39e-9190-49da-9c28-17adcd0ebad6",
   "metadata": {},
   "source": [
    "# 20240523 筆記"
   ]
  },
  {
   "cell_type": "code",
   "execution_count": null,
   "id": "312b7548-b669-491f-b5a1-b987ee4f80da",
   "metadata": {},
   "outputs": [],
   "source": [
    "import cv2\n",
    "import torch\n",
    "from PIL import Image"
   ]
  },
  {
   "cell_type": "code",
   "execution_count": null,
   "id": "2e4e15e1-046f-4266-b221-b314036a680d",
   "metadata": {},
   "outputs": [],
   "source": [
    "model = torch.hub.load('ultralytics/yolov5', 'yolov5s', pretrained=True)"
   ]
  },
  {
   "cell_type": "code",
   "execution_count": null,
   "id": "d6f0302a-0a8d-4076-854a-fb4741c2ea38",
   "metadata": {},
   "outputs": [],
   "source": [
    "im = Image.open('beattles.jpg')  # PIL image\n",
    "\n",
    "# Inference\n",
    "results = model(im, augment=True)  # batch of images"
   ]
  },
  {
   "cell_type": "code",
   "execution_count": null,
   "id": "5de1e126-320b-4d51-8235-710b6e3ad88f",
   "metadata": {},
   "outputs": [],
   "source": [
    "results.show()"
   ]
  },
  {
   "cell_type": "code",
   "execution_count": null,
   "id": "fde3eeab-ccb8-4d04-b77e-f2c1466aba32",
   "metadata": {},
   "outputs": [],
   "source": [
    "results.pandas().xyxy[0]"
   ]
  }
 ],
 "metadata": {
  "kernelspec": {
   "display_name": "Python 3 (ipykernel)",
   "language": "python",
   "name": "python3"
  },
  "language_info": {
   "codemirror_mode": {
    "name": "ipython",
    "version": 3
   },
   "file_extension": ".py",
   "mimetype": "text/x-python",
   "name": "python",
   "nbconvert_exporter": "python",
   "pygments_lexer": "ipython3",
   "version": "3.12.3"
  }
 },
 "nbformat": 4,
 "nbformat_minor": 5
}
